{
 "cells": [
  {
   "cell_type": "markdown",
   "metadata": {},
   "source": [
    "## 6 File Operations\n",
    "\n",
    "### Opening and Closing Files\n",
    "Until now, you have been reading and writing to the standard input and output. Now, we will see how to use actual data files.\n",
    "\n",
    "Python provides basic functions and methods necessary to manipulate files by default. You can do most of the file manipulation using a file object.\n",
    "\n",
    "#### 1. The open Function\n",
    "Before you can read or write a file, you have to open it using Python's built-in open() function. This function creates a file object, which would be utilized to call other support methods associated with it.\n",
    "\n",
    "#### Syntax\n",
    "\n",
    "```file object = open(file_name , access_mode]```\n",
    "\n",
    "1. file_name − The file_name argument is a string value that contains the name of the file that you want to acces\n",
    "2. access_mode − The access_mode determines the mode in which the file has to be opened, i.e., read(r), write(w), append(a), etc. A complete list of possible values is given below in the [table](https://www.tutorialspoint.com/python3/python_files_io.htm). The default file access mode is read (r).\n",
    "\n",
    "#### 2. The write() Method\n",
    "The write() method writes any string to an open file. It is important to note that Python strings can have binary data and not just text.\n",
    "\n",
    "The write() method does not add a newline character ('\\n') to the end of the string −\n",
    "\n",
    "#### 3.The read() Method\n",
    "The read() method reads a string from an open file. It is important to note that Python strings can have binary data. apart from text data."
   ]
  },
  {
   "cell_type": "code",
   "execution_count": 2,
   "metadata": {},
   "outputs": [],
   "source": [
    "file1=open('example1.txt','w') #no need to be already existing\n",
    "\n",
    "file1.write('XXXXXXXXXXXXXXXX')\n",
    "file1.close()"
   ]
  },
  {
   "cell_type": "code",
   "execution_count": 3,
   "metadata": {},
   "outputs": [],
   "source": [
    "file2=open('example2.txt','a') #no need to be already existing\n",
    "\n",
    "file2.write('\\nYYYYYYYYYYYYYYYYYYYYYY')\n",
    "file2.close()"
   ]
  },
  {
   "cell_type": "code",
   "execution_count": 4,
   "metadata": {},
   "outputs": [
    {
     "name": "stdout",
     "output_type": "stream",
     "text": [
      "This is line1\n",
      "This is line2\n",
      "This is line3\n"
     ]
    }
   ],
   "source": [
    "file3=open('example3.txt','r') #must be exsisting\n",
    "\n",
    "output=file3.read()\n",
    "print(output)\n",
    "file3.close()"
   ]
  },
  {
   "cell_type": "code",
   "execution_count": 5,
   "metadata": {},
   "outputs": [
    {
     "name": "stdout",
     "output_type": "stream",
     "text": [
      "This is li\n"
     ]
    }
   ],
   "source": [
    "file3=open('example3.txt','r') #must be exsisting\n",
    "\n",
    "output=file3.read(10)\n",
    "print(output)\n",
    "file3.close()"
   ]
  },
  {
   "cell_type": "code",
   "execution_count": 6,
   "metadata": {},
   "outputs": [
    {
     "name": "stdout",
     "output_type": "stream",
     "text": [
      "This is line1\n",
      "\n"
     ]
    }
   ],
   "source": [
    "file3=open('example3.txt','r') #must be exsisting\n",
    "\n",
    "output=file3.readline()\n",
    "print(output)\n",
    "file3.close()"
   ]
  },
  {
   "cell_type": "code",
   "execution_count": null,
   "metadata": {},
   "outputs": [],
   "source": [
    "file3=open('example3.txt','r') #must be exsisting\n",
    "\n",
    "output1=file3.readline()\n",
    "output2=file3.readline()\n",
    "print('output1:',output1)\n",
    "print('output2:',output2)\n",
    "file3.close()"
   ]
  },
  {
   "cell_type": "markdown",
   "metadata": {},
   "source": [
    "### How to read until the end of the file"
   ]
  },
  {
   "cell_type": "code",
   "execution_count": null,
   "metadata": {},
   "outputs": [],
   "source": [
    "file3=open('example3.txt','r') #must be exsisting\n",
    "\n",
    "while(True):\n",
    "    output=file3.readline()\n",
    "    print(output)"
   ]
  },
  {
   "cell_type": "code",
   "execution_count": null,
   "metadata": {},
   "outputs": [],
   "source": [
    "file3=open('example3.txt','r') #must be exsisting\n",
    "\n",
    "while(True):\n",
    "    output=file3.readline()\n",
    "    print(output)\n",
    "    if(output==\"\"):\n",
    "        break"
   ]
  },
  {
   "cell_type": "markdown",
   "metadata": {},
   "source": [
    "## QUIZ 4\n",
    "\n",
    "```student_marks.txt``` (included in this folder) contains ```Student name, Maths, Physics and Chemistry Marks``` of 5 students as shown below.\n",
    "\n",
    "```\n",
    "\"John\",87,90,91\n",
    "\"William\",91,78,87\n",
    "\"Henry\",95,91,94\n",
    "\"Harry\",88,82,78\n",
    "\"Sam\",98,85,84\n",
    "```\n",
    "Write a python program to,\n",
    "\n",
    "1. Read the ```student_marks.txt``` file and load the student details into line by line into a python tuple, This could be done using the eval function as described in the following code,\n",
    "\n",
    "```\n",
    "student_file=open('student_marks.txt','r') #must be exsisting\n",
    "details=eval(file3.readline())\n",
    "```\n",
    "Here when the ```eval()``` function is used to read a line in a file it converts it to a tuple. Therefore ```details=('John', 87, 90, 91)```\n",
    "2. Create a function call ```student_details``` which take ```Maths, Physics and Chemistry Marks``` as input parameters and outputs ```average mark of the 3 subjects``` and ```Grade of each subject``` (in the order of Maths,Physics and Chemistry)\n",
    "3. Write the following details in the given order to a new file called ```student_details.txt```\n",
    "\n",
    "```Student name, Maths marks, Physics marks, Chemistry marks, Average marks, Maths grade, Physics grade, Chemistry grade```"
   ]
  },
  {
   "cell_type": "code",
   "execution_count": null,
   "metadata": {},
   "outputs": [],
   "source": []
  }
 ],
 "metadata": {
  "kernelspec": {
   "display_name": "Python 3",
   "language": "python",
   "name": "python3"
  },
  "language_info": {
   "codemirror_mode": {
    "name": "ipython",
    "version": 3
   },
   "file_extension": ".py",
   "mimetype": "text/x-python",
   "name": "python",
   "nbconvert_exporter": "python",
   "pygments_lexer": "ipython3",
   "version": "3.8.5"
  }
 },
 "nbformat": 4,
 "nbformat_minor": 2
}
